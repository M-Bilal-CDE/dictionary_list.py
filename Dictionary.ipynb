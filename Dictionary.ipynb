{
 "cells": [
  {
   "cell_type": "markdown",
   "id": "dde97a6b-20ef-4999-9ba6-aaa48a3220c7",
   "metadata": {},
   "source": [
    "### Creating a list of dictionaries"
   ]
  },
  {
   "cell_type": "code",
   "execution_count": 11,
   "id": "131ae75f-6e4a-4cee-9218-c3c77abad597",
   "metadata": {},
   "outputs": [],
   "source": [
    "names = [\"Bilal\", \"Khan\"]\n",
    "\n",
    "bio_data = {\"first_name\": \"Bilal\", \"last_name\": \"khan\"}"
   ]
  },
  {
   "cell_type": "code",
   "execution_count": 22,
   "id": "252a508b-da87-49ea-af7a-88e023f7b44b",
   "metadata": {},
   "outputs": [],
   "source": [
    "cde_class = [\n",
    "    {\n",
    "        \"first_name\": \"bilal\",\n",
    "        \"last_name\": \"khan\",\n",
    "        \"address\": \"karachi\"\n",
    "    },\n",
    "    {\n",
    "        \"first_name\": \"basit\",\n",
    "        \"last_name\": \"khan\",\n",
    "        \"address\": \"lahore\"\n",
    "    },\n",
    "    {\n",
    "        \"first_name\": \"umar\",\n",
    "        \"last_name\": \"khan\",\n",
    "        \"address\": \"sukkur\"\n",
    "    },\n",
    "]\n"
   ]
  },
  {
   "cell_type": "code",
   "execution_count": null,
   "id": "eecf741c-f5e7-4db1-b6ef-23852932869b",
   "metadata": {},
   "outputs": [
    {
     "data": {
      "text/plain": [
       "'Khan'"
      ]
     },
     "execution_count": 10,
     "metadata": {},
     "output_type": "execute_result"
    }
   ],
   "source": [
    "names[0]"
   ]
  },
  {
   "cell_type": "code",
   "execution_count": 14,
   "id": "2e4d44f5-43cc-45e0-9a81-8f09e978e4cc",
   "metadata": {},
   "outputs": [
    {
     "data": {
      "text/plain": [
       "[{'first_name': 'bilal', 'last_name': 'khan', 'address': 'karachi'},\n",
       " {'first_name': 'basit', 'last_name': 'lahore'},\n",
       " {'first_name': 'umar', 'last_name': 'sukkur'},\n",
       " {'first_name': 'umar', 'last_name': 'sukkur'},\n",
       " {'first_name': 'umar', 'last_name': 'sukkur'}]"
      ]
     },
     "execution_count": 14,
     "metadata": {},
     "output_type": "execute_result"
    }
   ],
   "source": [
    "cde_class.append({\n",
    "\n",
    "          \"first_name\": \"umar\",\n",
    "          \"last_name\": \"khan\",\n",
    "          \"last_name\": \"sukkur\"\n",
    "\n",
    "    \n",
    "})\n",
    "cde_class"
   ]
  },
  {
   "cell_type": "code",
   "execution_count": 16,
   "id": "f0ece6e4-2bd1-4402-8b5a-dbded21552b9",
   "metadata": {},
   "outputs": [
    {
     "data": {
      "text/plain": [
       "'bilal'"
      ]
     },
     "execution_count": 16,
     "metadata": {},
     "output_type": "execute_result"
    }
   ],
   "source": [
    "cde_class[0][\"first_name\"]"
   ]
  },
  {
   "cell_type": "markdown",
   "id": "a0b4f5d9-e7f2-401e-a40e-fe2bdc906f00",
   "metadata": {},
   "source": [
    "### Mini Task\n",
    "# add another student in the list\n",
    "# add print all student first names\n",
    "# add grade for each student and print all the student with A grade"
   ]
  },
  {
   "cell_type": "code",
   "execution_count": 17,
   "id": "ec9805c4-7b29-452a-b76f-02275a49e41f",
   "metadata": {},
   "outputs": [
    {
     "data": {
      "text/plain": [
       "[{'first_name': 'bilal', 'last_name': 'khan', 'address': 'karachi'},\n",
       " {'first_name': 'basit', 'last_name': 'lahore'},\n",
       " {'first_name': 'umar', 'last_name': 'sukkur'},\n",
       " {'first_name': 'umar', 'last_name': 'sukkur'},\n",
       " {'first_name': 'umar', 'last_name': 'sukkur'},\n",
       " {'first_name': 'umar', 'last_name': 'sukkur'}]"
      ]
     },
     "execution_count": 17,
     "metadata": {},
     "output_type": "execute_result"
    }
   ],
   "source": [
    "cde_class.append({\n",
    "\n",
    "          \"first_name\": \"umar\",\n",
    "          \"last_name\": \"khan\",\n",
    "          \"last_name\": \"sukkur\"\n",
    "\n",
    "    \n",
    "})\n",
    "cde_class"
   ]
  },
  {
   "cell_type": "code",
   "execution_count": 19,
   "id": "a35b17d3-a036-45fa-964d-0d857e4f8209",
   "metadata": {},
   "outputs": [
    {
     "data": {
      "text/plain": [
       "'bilal'"
      ]
     },
     "execution_count": 19,
     "metadata": {},
     "output_type": "execute_result"
    }
   ],
   "source": [
    "cde_class[0][\"first_name\"]"
   ]
  },
  {
   "cell_type": "code",
   "execution_count": 25,
   "id": "fab53d6f-281a-436d-a806-522f04f3f650",
   "metadata": {},
   "outputs": [
    {
     "name": "stdout",
     "output_type": "stream",
     "text": [
      "All students with grade A:\n",
      "bilal khan   A\n",
      "basit khan   A\n",
      "umar khan   A\n"
     ]
    }
   ],
   "source": [
    "for student in cde_class:\n",
    "    student[\"grade\"] = \"A\"\n",
    "print(\"All students with grade A:\")\n",
    "for student in cde_class:\n",
    "    print(student[\"first_name\"], student[\"last_name\"], \" \", student[\"grade\"])"
   ]
  },
  {
   "cell_type": "code",
   "execution_count": 32,
   "id": "bd9c875e-1097-459a-ac60-d7d95bd6e1d0",
   "metadata": {},
   "outputs": [
    {
     "name": "stdout",
     "output_type": "stream",
     "text": [
      "bilal khan A\n",
      "basit khan A\n",
      "umar khan A\n"
     ]
    }
   ],
   "source": [
    "for i in cde_class:\n",
    "    if i[\"grade\"] == \"A\":\n",
    "        print(i[\"first_name\"], i[\"last_name\"], i[\"grade\"])"
   ]
  },
  {
   "cell_type": "raw",
   "id": "2688ea11-6531-40be-8cd0-0370fc28b572",
   "metadata": {},
   "source": [
    "store = {\n",
    "       \n",
    "       \"fruits\": [\"Mango\", \"Apple\", \"Banana\"],\n",
    "       \"drinks\": [\"Mango juice\", \"Apple juice\", \"Banana juice\"]\n",
    "          \n",
    "\n",
    "}"
   ]
  },
  {
   "cell_type": "code",
   "execution_count": 33,
   "id": "ac947478-ecd2-4473-aba2-a4deb6f40f9f",
   "metadata": {},
   "outputs": [],
   "source": [
    "store = {\n",
    "       \n",
    "       \"fruits\": [\"Mango\", \"Apple\", \"Banana\"],\n",
    "       \"drinks\": [\"Mango juice\", \"Apple juice\", \"Banana juice\"]\n",
    "          \n",
    "\n",
    "}"
   ]
  },
  {
   "cell_type": "code",
   "execution_count": 34,
   "id": "24446ee1-445a-41a4-9932-93f4839d9e59",
   "metadata": {},
   "outputs": [
    {
     "data": {
      "text/plain": [
       "['Mango', 'Apple', 'Banana']"
      ]
     },
     "execution_count": 34,
     "metadata": {},
     "output_type": "execute_result"
    }
   ],
   "source": [
    "store[\"fruits\"]"
   ]
  },
  {
   "cell_type": "code",
   "execution_count": 35,
   "id": "68f0c9dd-956c-42ea-ac3c-8db744766e44",
   "metadata": {},
   "outputs": [
    {
     "data": {
      "text/plain": [
       "'Apple'"
      ]
     },
     "execution_count": 35,
     "metadata": {},
     "output_type": "execute_result"
    }
   ],
   "source": [
    "store[\"fruits\"][1]"
   ]
  },
  {
   "cell_type": "code",
   "execution_count": 37,
   "id": "b77f6475-97b0-47e1-9f1b-0774dedde1c5",
   "metadata": {},
   "outputs": [
    {
     "data": {
      "text/plain": [
       "{'fruits': ['Mango', 'Apple', 'Banana'],\n",
       " 'drinks': ['Mango juice', 'Apple juice', 'Banana juice'],\n",
       " 'Medicine': ['flygil', 'rizec']}"
      ]
     },
     "execution_count": 37,
     "metadata": {},
     "output_type": "execute_result"
    }
   ],
   "source": [
    "store[\"Medicine\"] = [\"flygil\", \"rizec\"]\n",
    "store\n"
   ]
  },
  {
   "cell_type": "markdown",
   "id": "70164987-4813-40da-a58f-266c196806c0",
   "metadata": {},
   "source": [
    "### Mini Task\n",
    "- Add orange to fruits\n",
    "- Add another Category in the dictionary"
   ]
  },
  {
   "cell_type": "code",
   "execution_count": 44,
   "id": "8cfd13a1-430c-4d19-9ab9-1629e748d506",
   "metadata": {},
   "outputs": [
    {
     "data": {
      "text/plain": [
       "['Orange', 'Orange', 'banana']"
      ]
     },
     "execution_count": 44,
     "metadata": {},
     "output_type": "execute_result"
    }
   ],
   "source": [
    "store [\"fruits\"].append(\"banana\")\n",
    "store[\"fruits\"]\n"
   ]
  },
  {
   "cell_type": "markdown",
   "id": "5233125a-abb4-4398-8d75-24563487c293",
   "metadata": {},
   "source": [
    "### Creating a dictionary that contains a dictionary"
   ]
  },
  {
   "cell_type": "code",
   "execution_count": 51,
   "id": "1d054283-272d-43fc-a958-5df596352f76",
   "metadata": {},
   "outputs": [],
   "source": [
    "contacts = {\n",
    "    \"Ali\": {\"phone\": 72641, \"email\": \"ali@gmail.com\"},\n",
    "     \"mehmood\": {\"phone\": 726421, \"email\": \"mehmood@gmail.com\"}\n",
    "}"
   ]
  },
  {
   "cell_type": "code",
   "execution_count": 60,
   "id": "b345f5b2-a31b-416f-8416-16b3471e6d68",
   "metadata": {},
   "outputs": [
    {
     "data": {
      "text/plain": [
       "{'Ali': {'phone': 72641, 'email': 'ali@gmail.com'},\n",
       " 'mehmood': {'phone': 726421, 'email': 'mehmood@gmail.com'}}"
      ]
     },
     "execution_count": 60,
     "metadata": {},
     "output_type": "execute_result"
    }
   ],
   "source": [
    "contacts"
   ]
  },
  {
   "cell_type": "markdown",
   "id": "724baaff-0f58-4dca-bddb-2e10f584381b",
   "metadata": {},
   "source": [
    "### Mini Task 3\n",
    "- add a new user \n",
    "- print his email\n",
    "- print all names with their phone number "
   ]
  },
  {
   "cell_type": "code",
   "execution_count": 68,
   "id": "241360c5-f45f-4dd7-95c4-fa8052874780",
   "metadata": {},
   "outputs": [
    {
     "name": "stdout",
     "output_type": "stream",
     "text": [
      "Ali 72641\n",
      "mehmood 726421\n"
     ]
    }
   ],
   "source": [
    "for i in contacts.keys():\n",
    "    print(i, contacts[i]['phone'])"
   ]
  },
  {
   "cell_type": "markdown",
   "id": "40adb269-8135-418f-9a7b-363588c253cb",
   "metadata": {},
   "source": [
    "### TASK \n",
    "# create a dictionary called company with 3 diffrent departments (HR, IT, finance) create a list for each department and store two employe details like name , salary, and experience using a dictionary in each department\n",
    " \n",
    "# - print all employes in IT department\n",
    "# - add a new employee ;Qasim' with salary 55000 and expirience 1 to HR\n",
    "# - increase salary of qasim by 10000\n",
    "# - print all employes who have experience more than 3 years (any department)"
   ]
  },
  {
   "cell_type": "code",
   "execution_count": 74,
   "id": "4b37db97-6466-402b-9e16-1d5bc4b6a797",
   "metadata": {},
   "outputs": [
    {
     "name": "stdout",
     "output_type": "stream",
     "text": [
      "IT Department Employees:\n",
      "Bilal - Salary: 70000 - Experience: 4 years\n",
      "Umar - Salary: 65000 - Experience: 3 years\n",
      "\n",
      "Employees with more than 3 years experience:\n",
      "Bilal - Department: IT - Experience: 4 years\n",
      "Asad - Department: Finance - Experience: 5 years\n"
     ]
    }
   ],
   "source": [
    "# 1) Company dictionary with 3 departments\n",
    "company = {\n",
    "    \"HR\": [\n",
    "        {\"name\": \"Ali\", \"salary\": 50000, \"experience\": 3},\n",
    "        {\"name\": \"Sara\", \"salary\": 55000, \"experience\": 2}\n",
    "    ],\n",
    "    \"IT\": [\n",
    "        {\"name\": \"Bilal\", \"salary\": 70000, \"experience\": 4},\n",
    "        {\"name\": \"Umar\", \"salary\": 65000, \"experience\": 3}\n",
    "    ],\n",
    "    \"Finance\": [\n",
    "        {\"name\": \"Asad\", \"salary\": 60000, \"experience\": 5},\n",
    "        {\"name\": \"Hina\", \"salary\": 58000, \"experience\": 2}\n",
    "    ]\n",
    "}\n",
    "\n",
    "# 2) Print all employees in IT department\n",
    "print(\"IT Department Employees:\")\n",
    "for emp in company[\"IT\"]:\n",
    "    print(emp[\"name\"], \"-\", \"Salary:\", emp[\"salary\"], \"-\", \"Experience:\", emp[\"experience\"], \"years\")\n",
    "\n",
    "# 3) Add a new employee 'Qasim' with salary 55000 and experience 1 to HR\n",
    "company[\"HR\"].append({\"name\": \"Qasim\", \"salary\": 55000, \"experience\": 1})\n",
    "\n",
    "# 4) Increase salary of Qasim by 10000\n",
    "for emp in company[\"HR\"]:\n",
    "    if emp[\"name\"] == \"Qasim\":\n",
    "        emp[\"salary\"] += 10000\n",
    "\n",
    "# 5) Print all employees who have experience more than 3 years (any department)\n",
    "print(\"\\nEmployees with more than 3 years experience:\")\n",
    "for dept, employees in company.items():\n",
    "    for emp in employees:\n",
    "        if emp[\"experience\"] > 3:\n",
    "            print(emp[\"name\"], \"-\", \"Department:\", dept, \"-\", \"Experience:\", emp[\"experience\"], \"years\")\n"
   ]
  },
  {
   "cell_type": "code",
   "execution_count": null,
   "id": "a42e7d7f-4041-4df0-b182-d85f9ff571f8",
   "metadata": {},
   "outputs": [],
   "source": [
    "\n",
    "    "
   ]
  },
  {
   "cell_type": "code",
   "execution_count": null,
   "id": "57193256-8fc1-42c7-928c-789eca7aa873",
   "metadata": {},
   "outputs": [],
   "source": []
  }
 ],
 "metadata": {
  "kernelspec": {
   "display_name": "Python 3 (ipykernel)",
   "language": "python",
   "name": "python3"
  },
  "language_info": {
   "codemirror_mode": {
    "name": "ipython",
    "version": 3
   },
   "file_extension": ".py",
   "mimetype": "text/x-python",
   "name": "python",
   "nbconvert_exporter": "python",
   "pygments_lexer": "ipython3",
   "version": "3.13.5"
  }
 },
 "nbformat": 4,
 "nbformat_minor": 5
}
